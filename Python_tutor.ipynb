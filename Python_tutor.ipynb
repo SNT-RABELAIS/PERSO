{
 "cells": [
  {
   "cell_type": "code",
   "execution_count": 1,
   "metadata": {},
   "outputs": [],
   "source": [
    "#Test d'utilisation de Python Tutor dans un notebook Jupyter"
   ]
  },
  {
   "cell_type": "markdown",
   "metadata": {},
   "source": [
    "#Pour installer cette extension faire au préalable \n",
    "pip install tutormagic \n",
    "#avec l'invite de commande ou utiliser la cellule en mode code"
   ]
  },
  {
   "cell_type": "code",
   "execution_count": 6,
   "metadata": {},
   "outputs": [],
   "source": [
    "%load_ext tutormagic"
   ]
  },
  {
   "cell_type": "markdown",
   "metadata": {},
   "source": [
    "Pour créer un iFrame dans le notebook avec la page http://www.pythontutor.com inclue dans la cellule de code du notebook"
   ]
  },
  {
   "cell_type": "code",
   "execution_count": 7,
   "metadata": {},
   "outputs": [
    {
     "data": {
      "text/html": [
       "\n",
       "        <iframe\n",
       "            width=\"100%\"\n",
       "            height=\"350\"\n",
       "            src=\"http://pythontutor.com/iframe-embed.html#code=%23%20some%20python%20code...%0Aa%20%3D%201%0Ab%20%3D%203%0Aprint%20%28a%2Bb%29%0A&origin=opt-frontend.js&cumulative=false&heapPrimitives=false&textReferences=false&curInstr=0&&verticalStack=false&py=3&rawInputLstJSON=%5B%5D&codeDivWidth=50%25&codeDivHeight=100%25\"\n",
       "            frameborder=\"0\"\n",
       "            allowfullscreen\n",
       "        ></iframe>\n",
       "        "
      ],
      "text/plain": [
       "<IPython.lib.display.IFrame at 0x2072d89c9a0>"
      ]
     },
     "metadata": {},
     "output_type": "display_data"
    }
   ],
   "source": [
    "%%tutor --lang python3\n",
    "# some python code...\n",
    "a = 1\n",
    "b = 3\n",
    "print (a+b)"
   ]
  },
  {
   "cell_type": "markdown",
   "metadata": {},
   "source": [
    "Ou alors en ouvrant une nouvelle page dans le navigateur avec le code inclu dans la cellule"
   ]
  },
  {
   "cell_type": "code",
   "execution_count": 4,
   "metadata": {},
   "outputs": [],
   "source": [
    "%%tutor --lang python3 --tab\n",
    "# some python code..."
   ]
  },
  {
   "cell_type": "markdown",
   "metadata": {},
   "source": [
    "Options\n",
    "\n",
    "--lang or -l: it allows you to choose one of the available languages supported by pythontutor. It this option is set then it will consider the code in the cell as Python3 code.\n",
    "\n",
    "    %%tutor --lang python3 or %%tutor -l python3 or %%tutor to show a pythontutor IFrame with python3 code.\n",
    "    %%tutor --lang python2 or %%tutor -l python2 to show a pythontutor IFrame with python2 code.\n",
    "    %%tutor --lang java or %%tutor -l java to show a pythontutor IFrame with java code.\n",
    "    %%tutor --lang javascript or %%tutor -l javascript to show a pythontutor IFrame with javascript code.\n",
    "    %%tutor --lang typescript or %%tutor -l typescript to show a pythontutor IFrame with typescript code.\n",
    "    %%tutor --lang ruby or %%tutor -l ruby to show a pythontutor IFrame with ruby code.\n",
    "    %%tutor --lang c or %%tutor -l c to show a pythontutor IFrame with c code.\n",
    "    %%tutor --lang c++ or %%tutor -l c++ to show a pythontutor IFrame with c++ code.\n"
   ]
  },
  {
   "cell_type": "markdown",
   "metadata": {},
   "source": [
    "Une autre solution existe avec nbtutor\n",
    "https://github.com/lgpage/nbtutor"
   ]
  },
  {
   "cell_type": "markdown",
   "metadata": {},
   "source": [
    "Il faut au préalable installer et activer l'extension avec le shell d'Anaconda\n",
    "\n",
    "pip install nbtutor\n",
    "jupyter nbextension install --overwrite --py nbtutor\n",
    "jupyter nbextension enable --py nbtutor"
   ]
  },
  {
   "cell_type": "code",
   "execution_count": 1,
   "metadata": {},
   "outputs": [],
   "source": [
    "%load_ext nbtutor"
   ]
  },
  {
   "cell_type": "code",
   "execution_count": 4,
   "metadata": {},
   "outputs": [
    {
     "name": "nbtutor",
     "output_type": "stream",
     "text": [
      "3\n"
     ]
    }
   ],
   "source": [
    "%%nbtutor\n",
    "a = 1\n",
    "b = 2\n",
    "print (a+b)"
   ]
  },
  {
   "cell_type": "code",
   "execution_count": 5,
   "metadata": {},
   "outputs": [
    {
     "name": "nbtutor",
     "output_type": "stream",
     "text": [
      "110\n"
     ]
    }
   ],
   "source": [
    "%%nbtutor -r -f -d 5\n",
    "class Foo(object):\n",
    "    a = 10\n",
    "    def __init__(self, b):\n",
    "        self.b = b\n",
    "    \n",
    "    def dostuff(self, x):\n",
    "        self.b += x\n",
    "        return self.b\n",
    "\n",
    "foo = Foo(10)\n",
    "ans = foo.dostuff(100)\n",
    "print(ans)"
   ]
  },
  {
   "cell_type": "code",
   "execution_count": 9,
   "metadata": {},
   "outputs": [
    {
     "name": "nbtutor",
     "output_type": "stream",
     "text": []
    }
   ],
   "source": [
    "%%nbtutor -r -f\n",
    "def add(one, two):\n",
    "    ans = one + two\n",
    "    return ans\n",
    "\n",
    "foo = 10\n",
    "ans = add(foo, 20)\n",
    "\n"
   ]
  },
  {
   "cell_type": "code",
   "execution_count": null,
   "metadata": {},
   "outputs": [],
   "source": []
  }
 ],
 "metadata": {
  "celltoolbar": "Visualize",
  "kernelspec": {
   "display_name": "Python 3",
   "language": "python",
   "name": "python3"
  },
  "language_info": {
   "codemirror_mode": {
    "name": "ipython",
    "version": 3
   },
   "file_extension": ".py",
   "mimetype": "text/x-python",
   "name": "python",
   "nbconvert_exporter": "python",
   "pygments_lexer": "ipython3",
   "version": "3.8.3"
  }
 },
 "nbformat": 4,
 "nbformat_minor": 4
}
